{
 "cells": [
  {
   "cell_type": "markdown",
   "metadata": {},
   "source": [
    "# Sentence Transformer"
   ]
  },
  {
   "cell_type": "code",
   "execution_count": 33,
   "metadata": {},
   "outputs": [],
   "source": [
    "from sentence_transformers import SentenceTransformer, util\n",
    "import torch\n",
    "import json"
   ]
  },
  {
   "cell_type": "code",
   "execution_count": 34,
   "metadata": {},
   "outputs": [
    {
     "data": {
      "text/plain": [
       "True"
      ]
     },
     "execution_count": 34,
     "metadata": {},
     "output_type": "execute_result"
    }
   ],
   "source": [
    "torch.cuda.is_available()"
   ]
  },
  {
   "cell_type": "code",
   "execution_count": 35,
   "metadata": {},
   "outputs": [
    {
     "data": {
      "application/vnd.jupyter.widget-view+json": {
       "model_id": "671ef5f9147b400fb06016774a58336b",
       "version_major": 2,
       "version_minor": 0
      },
      "text/plain": [
       "Downloading:   0%|          | 0.00/1.18k [00:00<?, ?B/s]"
      ]
     },
     "metadata": {},
     "output_type": "display_data"
    },
    {
     "data": {
      "application/vnd.jupyter.widget-view+json": {
       "model_id": "852df35e872243a7a9261d06315dd0ce",
       "version_major": 2,
       "version_minor": 0
      },
      "text/plain": [
       "Downloading:   0%|          | 0.00/190 [00:00<?, ?B/s]"
      ]
     },
     "metadata": {},
     "output_type": "display_data"
    },
    {
     "data": {
      "application/vnd.jupyter.widget-view+json": {
       "model_id": "4a3268b34feb47b38d9cd5321bd33e2f",
       "version_major": 2,
       "version_minor": 0
      },
      "text/plain": [
       "Downloading:   0%|          | 0.00/116 [00:00<?, ?B/s]"
      ]
     },
     "metadata": {},
     "output_type": "display_data"
    },
    {
     "data": {
      "application/vnd.jupyter.widget-view+json": {
       "model_id": "41e4fcb752394d7fbbf6a7c12fbc357e",
       "version_major": 2,
       "version_minor": 0
      },
      "text/plain": [
       "Downloading:   0%|          | 0.00/3.15M [00:00<?, ?B/s]"
      ]
     },
     "metadata": {},
     "output_type": "display_data"
    },
    {
     "data": {
      "application/vnd.jupyter.widget-view+json": {
       "model_id": "0c12f32dbe4a40239dbd7d731ff33e54",
       "version_major": 2,
       "version_minor": 0
      },
      "text/plain": [
       "Downloading:   0%|          | 0.00/1.89k [00:00<?, ?B/s]"
      ]
     },
     "metadata": {},
     "output_type": "display_data"
    },
    {
     "data": {
      "application/vnd.jupyter.widget-view+json": {
       "model_id": "370be575b64c4bd281d2b1569b804d1e",
       "version_major": 2,
       "version_minor": 0
      },
      "text/plain": [
       "Downloading:   0%|          | 0.00/1.38k [00:00<?, ?B/s]"
      ]
     },
     "metadata": {},
     "output_type": "display_data"
    },
    {
     "data": {
      "application/vnd.jupyter.widget-view+json": {
       "model_id": "e9baa2a780f84a10a59ce584b82977f5",
       "version_major": 2,
       "version_minor": 0
      },
      "text/plain": [
       "Downloading:   0%|          | 0.00/122 [00:00<?, ?B/s]"
      ]
     },
     "metadata": {},
     "output_type": "display_data"
    },
    {
     "data": {
      "application/vnd.jupyter.widget-view+json": {
       "model_id": "9ca2bfd4846c4f71b6c3d5d91f95fae9",
       "version_major": 2,
       "version_minor": 0
      },
      "text/plain": [
       "Downloading:   0%|          | 0.00/9.73G [00:00<?, ?B/s]"
      ]
     },
     "metadata": {},
     "output_type": "display_data"
    },
    {
     "ename": "KeyboardInterrupt",
     "evalue": "",
     "output_type": "error",
     "traceback": [
      "\u001b[0;31m---------------------------------------------------------------------------\u001b[0m",
      "\u001b[0;31mKeyboardInterrupt\u001b[0m                         Traceback (most recent call last)",
      "Cell \u001b[0;32mIn[35], line 1\u001b[0m\n\u001b[0;32m----> 1\u001b[0m embedder \u001b[39m=\u001b[39m SentenceTransformer(\u001b[39m'\u001b[39;49m\u001b[39mgtr-t5-xxl\u001b[39;49m\u001b[39m'\u001b[39;49m, device\u001b[39m=\u001b[39;49m\u001b[39m'\u001b[39;49m\u001b[39mcuda\u001b[39;49m\u001b[39m'\u001b[39;49m)\n",
      "File \u001b[0;32m~/anaconda3/envs/test/lib/python3.9/site-packages/sentence_transformers/SentenceTransformer.py:87\u001b[0m, in \u001b[0;36mSentenceTransformer.__init__\u001b[0;34m(self, model_name_or_path, modules, device, cache_folder, use_auth_token)\u001b[0m\n\u001b[1;32m     83\u001b[0m     model_path \u001b[39m=\u001b[39m os\u001b[39m.\u001b[39mpath\u001b[39m.\u001b[39mjoin(cache_folder, model_name_or_path\u001b[39m.\u001b[39mreplace(\u001b[39m\"\u001b[39m\u001b[39m/\u001b[39m\u001b[39m\"\u001b[39m, \u001b[39m\"\u001b[39m\u001b[39m_\u001b[39m\u001b[39m\"\u001b[39m))\n\u001b[1;32m     85\u001b[0m     \u001b[39mif\u001b[39;00m \u001b[39mnot\u001b[39;00m os\u001b[39m.\u001b[39mpath\u001b[39m.\u001b[39mexists(os\u001b[39m.\u001b[39mpath\u001b[39m.\u001b[39mjoin(model_path, \u001b[39m'\u001b[39m\u001b[39mmodules.json\u001b[39m\u001b[39m'\u001b[39m)):\n\u001b[1;32m     86\u001b[0m         \u001b[39m# Download from hub with caching\u001b[39;00m\n\u001b[0;32m---> 87\u001b[0m         snapshot_download(model_name_or_path,\n\u001b[1;32m     88\u001b[0m                             cache_dir\u001b[39m=\u001b[39;49mcache_folder,\n\u001b[1;32m     89\u001b[0m                             library_name\u001b[39m=\u001b[39;49m\u001b[39m'\u001b[39;49m\u001b[39msentence-transformers\u001b[39;49m\u001b[39m'\u001b[39;49m,\n\u001b[1;32m     90\u001b[0m                             library_version\u001b[39m=\u001b[39;49m__version__,\n\u001b[1;32m     91\u001b[0m                             ignore_files\u001b[39m=\u001b[39;49m[\u001b[39m'\u001b[39;49m\u001b[39mflax_model.msgpack\u001b[39;49m\u001b[39m'\u001b[39;49m, \u001b[39m'\u001b[39;49m\u001b[39mrust_model.ot\u001b[39;49m\u001b[39m'\u001b[39;49m, \u001b[39m'\u001b[39;49m\u001b[39mtf_model.h5\u001b[39;49m\u001b[39m'\u001b[39;49m],\n\u001b[1;32m     92\u001b[0m                             use_auth_token\u001b[39m=\u001b[39;49muse_auth_token)\n\u001b[1;32m     94\u001b[0m \u001b[39mif\u001b[39;00m os\u001b[39m.\u001b[39mpath\u001b[39m.\u001b[39mexists(os\u001b[39m.\u001b[39mpath\u001b[39m.\u001b[39mjoin(model_path, \u001b[39m'\u001b[39m\u001b[39mmodules.json\u001b[39m\u001b[39m'\u001b[39m)):    \u001b[39m#Load as SentenceTransformer model\u001b[39;00m\n\u001b[1;32m     95\u001b[0m     modules \u001b[39m=\u001b[39m \u001b[39mself\u001b[39m\u001b[39m.\u001b[39m_load_sbert_model(model_path)\n",
      "File \u001b[0;32m~/anaconda3/envs/test/lib/python3.9/site-packages/sentence_transformers/util.py:491\u001b[0m, in \u001b[0;36msnapshot_download\u001b[0;34m(repo_id, revision, cache_dir, library_name, library_version, user_agent, ignore_files, use_auth_token)\u001b[0m\n\u001b[1;32m    486\u001b[0m \u001b[39mif\u001b[39;00m version\u001b[39m.\u001b[39mparse(huggingface_hub\u001b[39m.\u001b[39m__version__) \u001b[39m>\u001b[39m\u001b[39m=\u001b[39m version\u001b[39m.\u001b[39mparse(\u001b[39m\"\u001b[39m\u001b[39m0.8.1\u001b[39m\u001b[39m\"\u001b[39m):\n\u001b[1;32m    487\u001b[0m     \u001b[39m# huggingface_hub v0.8.1 introduces a new cache layout. We sill use a manual layout\u001b[39;00m\n\u001b[1;32m    488\u001b[0m     \u001b[39m# And need to pass legacy_cache_layout=True to avoid that a warning will be printed\u001b[39;00m\n\u001b[1;32m    489\u001b[0m     cached_download_args[\u001b[39m'\u001b[39m\u001b[39mlegacy_cache_layout\u001b[39m\u001b[39m'\u001b[39m] \u001b[39m=\u001b[39m \u001b[39mTrue\u001b[39;00m\n\u001b[0;32m--> 491\u001b[0m path \u001b[39m=\u001b[39m cached_download(\u001b[39m*\u001b[39;49m\u001b[39m*\u001b[39;49mcached_download_args)\n\u001b[1;32m    493\u001b[0m \u001b[39mif\u001b[39;00m os\u001b[39m.\u001b[39mpath\u001b[39m.\u001b[39mexists(path \u001b[39m+\u001b[39m \u001b[39m\"\u001b[39m\u001b[39m.lock\u001b[39m\u001b[39m\"\u001b[39m):\n\u001b[1;32m    494\u001b[0m     os\u001b[39m.\u001b[39mremove(path \u001b[39m+\u001b[39m \u001b[39m\"\u001b[39m\u001b[39m.lock\u001b[39m\u001b[39m\"\u001b[39m)\n",
      "File \u001b[0;32m~/anaconda3/envs/test/lib/python3.9/site-packages/huggingface_hub/file_download.py:737\u001b[0m, in \u001b[0;36mcached_download\u001b[0;34m(url, library_name, library_version, cache_dir, user_agent, force_download, force_filename, proxies, etag_timeout, resume_download, use_auth_token, local_files_only, legacy_cache_layout)\u001b[0m\n\u001b[1;32m    734\u001b[0m \u001b[39mwith\u001b[39;00m temp_file_manager() \u001b[39mas\u001b[39;00m temp_file:\n\u001b[1;32m    735\u001b[0m     logger\u001b[39m.\u001b[39minfo(\u001b[39m\"\u001b[39m\u001b[39mdownloading \u001b[39m\u001b[39m%s\u001b[39;00m\u001b[39m to \u001b[39m\u001b[39m%s\u001b[39;00m\u001b[39m\"\u001b[39m, url, temp_file\u001b[39m.\u001b[39mname)\n\u001b[0;32m--> 737\u001b[0m     http_get(\n\u001b[1;32m    738\u001b[0m         url_to_download,\n\u001b[1;32m    739\u001b[0m         temp_file,\n\u001b[1;32m    740\u001b[0m         proxies\u001b[39m=\u001b[39;49mproxies,\n\u001b[1;32m    741\u001b[0m         resume_size\u001b[39m=\u001b[39;49mresume_size,\n\u001b[1;32m    742\u001b[0m         headers\u001b[39m=\u001b[39;49mheaders,\n\u001b[1;32m    743\u001b[0m     )\n\u001b[1;32m    745\u001b[0m logger\u001b[39m.\u001b[39minfo(\u001b[39m\"\u001b[39m\u001b[39mstoring \u001b[39m\u001b[39m%s\u001b[39;00m\u001b[39m in cache at \u001b[39m\u001b[39m%s\u001b[39;00m\u001b[39m\"\u001b[39m, url, cache_path)\n\u001b[1;32m    746\u001b[0m os\u001b[39m.\u001b[39mreplace(temp_file\u001b[39m.\u001b[39mname, cache_path)\n",
      "File \u001b[0;32m~/anaconda3/envs/test/lib/python3.9/site-packages/huggingface_hub/file_download.py:490\u001b[0m, in \u001b[0;36mhttp_get\u001b[0;34m(url, temp_file, proxies, resume_size, headers, timeout, max_retries)\u001b[0m\n\u001b[1;32m    481\u001b[0m total \u001b[39m=\u001b[39m resume_size \u001b[39m+\u001b[39m \u001b[39mint\u001b[39m(content_length) \u001b[39mif\u001b[39;00m content_length \u001b[39mis\u001b[39;00m \u001b[39mnot\u001b[39;00m \u001b[39mNone\u001b[39;00m \u001b[39melse\u001b[39;00m \u001b[39mNone\u001b[39;00m\n\u001b[1;32m    482\u001b[0m progress \u001b[39m=\u001b[39m tqdm(\n\u001b[1;32m    483\u001b[0m     unit\u001b[39m=\u001b[39m\u001b[39m\"\u001b[39m\u001b[39mB\u001b[39m\u001b[39m\"\u001b[39m,\n\u001b[1;32m    484\u001b[0m     unit_scale\u001b[39m=\u001b[39m\u001b[39mTrue\u001b[39;00m,\n\u001b[0;32m   (...)\u001b[0m\n\u001b[1;32m    488\u001b[0m     disable\u001b[39m=\u001b[39m\u001b[39mbool\u001b[39m(logger\u001b[39m.\u001b[39mgetEffectiveLevel() \u001b[39m==\u001b[39m logging\u001b[39m.\u001b[39mNOTSET),\n\u001b[1;32m    489\u001b[0m )\n\u001b[0;32m--> 490\u001b[0m \u001b[39mfor\u001b[39;00m chunk \u001b[39min\u001b[39;00m r\u001b[39m.\u001b[39miter_content(chunk_size\u001b[39m=\u001b[39m\u001b[39m1024\u001b[39m):\n\u001b[1;32m    491\u001b[0m     \u001b[39mif\u001b[39;00m chunk:  \u001b[39m# filter out keep-alive new chunks\u001b[39;00m\n\u001b[1;32m    492\u001b[0m         progress\u001b[39m.\u001b[39mupdate(\u001b[39mlen\u001b[39m(chunk))\n",
      "File \u001b[0;32m~/anaconda3/envs/test/lib/python3.9/site-packages/requests/models.py:816\u001b[0m, in \u001b[0;36mResponse.iter_content.<locals>.generate\u001b[0;34m()\u001b[0m\n\u001b[1;32m    814\u001b[0m \u001b[39mif\u001b[39;00m \u001b[39mhasattr\u001b[39m(\u001b[39mself\u001b[39m\u001b[39m.\u001b[39mraw, \u001b[39m\"\u001b[39m\u001b[39mstream\u001b[39m\u001b[39m\"\u001b[39m):\n\u001b[1;32m    815\u001b[0m     \u001b[39mtry\u001b[39;00m:\n\u001b[0;32m--> 816\u001b[0m         \u001b[39myield from\u001b[39;00m \u001b[39mself\u001b[39m\u001b[39m.\u001b[39mraw\u001b[39m.\u001b[39mstream(chunk_size, decode_content\u001b[39m=\u001b[39m\u001b[39mTrue\u001b[39;00m)\n\u001b[1;32m    817\u001b[0m     \u001b[39mexcept\u001b[39;00m ProtocolError \u001b[39mas\u001b[39;00m e:\n\u001b[1;32m    818\u001b[0m         \u001b[39mraise\u001b[39;00m ChunkedEncodingError(e)\n",
      "File \u001b[0;32m~/anaconda3/envs/test/lib/python3.9/site-packages/urllib3/response.py:628\u001b[0m, in \u001b[0;36mHTTPResponse.stream\u001b[0;34m(self, amt, decode_content)\u001b[0m\n\u001b[1;32m    626\u001b[0m \u001b[39melse\u001b[39;00m:\n\u001b[1;32m    627\u001b[0m     \u001b[39mwhile\u001b[39;00m \u001b[39mnot\u001b[39;00m is_fp_closed(\u001b[39mself\u001b[39m\u001b[39m.\u001b[39m_fp):\n\u001b[0;32m--> 628\u001b[0m         data \u001b[39m=\u001b[39m \u001b[39mself\u001b[39;49m\u001b[39m.\u001b[39;49mread(amt\u001b[39m=\u001b[39;49mamt, decode_content\u001b[39m=\u001b[39;49mdecode_content)\n\u001b[1;32m    630\u001b[0m         \u001b[39mif\u001b[39;00m data:\n\u001b[1;32m    631\u001b[0m             \u001b[39myield\u001b[39;00m data\n",
      "File \u001b[0;32m~/anaconda3/envs/test/lib/python3.9/site-packages/urllib3/response.py:567\u001b[0m, in \u001b[0;36mHTTPResponse.read\u001b[0;34m(self, amt, decode_content, cache_content)\u001b[0m\n\u001b[1;32m    564\u001b[0m fp_closed \u001b[39m=\u001b[39m \u001b[39mgetattr\u001b[39m(\u001b[39mself\u001b[39m\u001b[39m.\u001b[39m_fp, \u001b[39m\"\u001b[39m\u001b[39mclosed\u001b[39m\u001b[39m\"\u001b[39m, \u001b[39mFalse\u001b[39;00m)\n\u001b[1;32m    566\u001b[0m \u001b[39mwith\u001b[39;00m \u001b[39mself\u001b[39m\u001b[39m.\u001b[39m_error_catcher():\n\u001b[0;32m--> 567\u001b[0m     data \u001b[39m=\u001b[39m \u001b[39mself\u001b[39;49m\u001b[39m.\u001b[39;49m_fp_read(amt) \u001b[39mif\u001b[39;00m \u001b[39mnot\u001b[39;00m fp_closed \u001b[39melse\u001b[39;00m \u001b[39mb\u001b[39m\u001b[39m\"\u001b[39m\u001b[39m\"\u001b[39m\n\u001b[1;32m    568\u001b[0m     \u001b[39mif\u001b[39;00m amt \u001b[39mis\u001b[39;00m \u001b[39mNone\u001b[39;00m:\n\u001b[1;32m    569\u001b[0m         flush_decoder \u001b[39m=\u001b[39m \u001b[39mTrue\u001b[39;00m\n",
      "File \u001b[0;32m~/anaconda3/envs/test/lib/python3.9/site-packages/urllib3/response.py:525\u001b[0m, in \u001b[0;36mHTTPResponse._fp_read\u001b[0;34m(self, amt)\u001b[0m\n\u001b[1;32m    523\u001b[0m \u001b[39melse\u001b[39;00m:\n\u001b[1;32m    524\u001b[0m     chunk_amt \u001b[39m=\u001b[39m max_chunk_amt\n\u001b[0;32m--> 525\u001b[0m data \u001b[39m=\u001b[39m \u001b[39mself\u001b[39;49m\u001b[39m.\u001b[39;49m_fp\u001b[39m.\u001b[39;49mread(chunk_amt)\n\u001b[1;32m    526\u001b[0m \u001b[39mif\u001b[39;00m \u001b[39mnot\u001b[39;00m data:\n\u001b[1;32m    527\u001b[0m     \u001b[39mbreak\u001b[39;00m\n",
      "File \u001b[0;32m~/anaconda3/envs/test/lib/python3.9/http/client.py:463\u001b[0m, in \u001b[0;36mHTTPResponse.read\u001b[0;34m(self, amt)\u001b[0m\n\u001b[1;32m    460\u001b[0m \u001b[39mif\u001b[39;00m amt \u001b[39mis\u001b[39;00m \u001b[39mnot\u001b[39;00m \u001b[39mNone\u001b[39;00m:\n\u001b[1;32m    461\u001b[0m     \u001b[39m# Amount is given, implement using readinto\u001b[39;00m\n\u001b[1;32m    462\u001b[0m     b \u001b[39m=\u001b[39m \u001b[39mbytearray\u001b[39m(amt)\n\u001b[0;32m--> 463\u001b[0m     n \u001b[39m=\u001b[39m \u001b[39mself\u001b[39;49m\u001b[39m.\u001b[39;49mreadinto(b)\n\u001b[1;32m    464\u001b[0m     \u001b[39mreturn\u001b[39;00m \u001b[39mmemoryview\u001b[39m(b)[:n]\u001b[39m.\u001b[39mtobytes()\n\u001b[1;32m    465\u001b[0m \u001b[39melse\u001b[39;00m:\n\u001b[1;32m    466\u001b[0m     \u001b[39m# Amount is not given (unbounded read) so we must check self.length\u001b[39;00m\n\u001b[1;32m    467\u001b[0m     \u001b[39m# and self.chunked\u001b[39;00m\n",
      "File \u001b[0;32m~/anaconda3/envs/test/lib/python3.9/http/client.py:507\u001b[0m, in \u001b[0;36mHTTPResponse.readinto\u001b[0;34m(self, b)\u001b[0m\n\u001b[1;32m    502\u001b[0m         b \u001b[39m=\u001b[39m \u001b[39mmemoryview\u001b[39m(b)[\u001b[39m0\u001b[39m:\u001b[39mself\u001b[39m\u001b[39m.\u001b[39mlength]\n\u001b[1;32m    504\u001b[0m \u001b[39m# we do not use _safe_read() here because this may be a .will_close\u001b[39;00m\n\u001b[1;32m    505\u001b[0m \u001b[39m# connection, and the user is reading more bytes than will be provided\u001b[39;00m\n\u001b[1;32m    506\u001b[0m \u001b[39m# (for example, reading in 1k chunks)\u001b[39;00m\n\u001b[0;32m--> 507\u001b[0m n \u001b[39m=\u001b[39m \u001b[39mself\u001b[39;49m\u001b[39m.\u001b[39;49mfp\u001b[39m.\u001b[39;49mreadinto(b)\n\u001b[1;32m    508\u001b[0m \u001b[39mif\u001b[39;00m \u001b[39mnot\u001b[39;00m n \u001b[39mand\u001b[39;00m b:\n\u001b[1;32m    509\u001b[0m     \u001b[39m# Ideally, we would raise IncompleteRead if the content-length\u001b[39;00m\n\u001b[1;32m    510\u001b[0m     \u001b[39m# wasn't satisfied, but it might break compatibility.\u001b[39;00m\n\u001b[1;32m    511\u001b[0m     \u001b[39mself\u001b[39m\u001b[39m.\u001b[39m_close_conn()\n",
      "File \u001b[0;32m~/anaconda3/envs/test/lib/python3.9/socket.py:704\u001b[0m, in \u001b[0;36mSocketIO.readinto\u001b[0;34m(self, b)\u001b[0m\n\u001b[1;32m    702\u001b[0m \u001b[39mwhile\u001b[39;00m \u001b[39mTrue\u001b[39;00m:\n\u001b[1;32m    703\u001b[0m     \u001b[39mtry\u001b[39;00m:\n\u001b[0;32m--> 704\u001b[0m         \u001b[39mreturn\u001b[39;00m \u001b[39mself\u001b[39;49m\u001b[39m.\u001b[39;49m_sock\u001b[39m.\u001b[39;49mrecv_into(b)\n\u001b[1;32m    705\u001b[0m     \u001b[39mexcept\u001b[39;00m timeout:\n\u001b[1;32m    706\u001b[0m         \u001b[39mself\u001b[39m\u001b[39m.\u001b[39m_timeout_occurred \u001b[39m=\u001b[39m \u001b[39mTrue\u001b[39;00m\n",
      "File \u001b[0;32m~/anaconda3/envs/test/lib/python3.9/ssl.py:1242\u001b[0m, in \u001b[0;36mSSLSocket.recv_into\u001b[0;34m(self, buffer, nbytes, flags)\u001b[0m\n\u001b[1;32m   1238\u001b[0m     \u001b[39mif\u001b[39;00m flags \u001b[39m!=\u001b[39m \u001b[39m0\u001b[39m:\n\u001b[1;32m   1239\u001b[0m         \u001b[39mraise\u001b[39;00m \u001b[39mValueError\u001b[39;00m(\n\u001b[1;32m   1240\u001b[0m           \u001b[39m\"\u001b[39m\u001b[39mnon-zero flags not allowed in calls to recv_into() on \u001b[39m\u001b[39m%s\u001b[39;00m\u001b[39m\"\u001b[39m \u001b[39m%\u001b[39m\n\u001b[1;32m   1241\u001b[0m           \u001b[39mself\u001b[39m\u001b[39m.\u001b[39m\u001b[39m__class__\u001b[39m)\n\u001b[0;32m-> 1242\u001b[0m     \u001b[39mreturn\u001b[39;00m \u001b[39mself\u001b[39;49m\u001b[39m.\u001b[39;49mread(nbytes, buffer)\n\u001b[1;32m   1243\u001b[0m \u001b[39melse\u001b[39;00m:\n\u001b[1;32m   1244\u001b[0m     \u001b[39mreturn\u001b[39;00m \u001b[39msuper\u001b[39m()\u001b[39m.\u001b[39mrecv_into(buffer, nbytes, flags)\n",
      "File \u001b[0;32m~/anaconda3/envs/test/lib/python3.9/ssl.py:1100\u001b[0m, in \u001b[0;36mSSLSocket.read\u001b[0;34m(self, len, buffer)\u001b[0m\n\u001b[1;32m   1098\u001b[0m \u001b[39mtry\u001b[39;00m:\n\u001b[1;32m   1099\u001b[0m     \u001b[39mif\u001b[39;00m buffer \u001b[39mis\u001b[39;00m \u001b[39mnot\u001b[39;00m \u001b[39mNone\u001b[39;00m:\n\u001b[0;32m-> 1100\u001b[0m         \u001b[39mreturn\u001b[39;00m \u001b[39mself\u001b[39;49m\u001b[39m.\u001b[39;49m_sslobj\u001b[39m.\u001b[39;49mread(\u001b[39mlen\u001b[39;49m, buffer)\n\u001b[1;32m   1101\u001b[0m     \u001b[39melse\u001b[39;00m:\n\u001b[1;32m   1102\u001b[0m         \u001b[39mreturn\u001b[39;00m \u001b[39mself\u001b[39m\u001b[39m.\u001b[39m_sslobj\u001b[39m.\u001b[39mread(\u001b[39mlen\u001b[39m)\n",
      "\u001b[0;31mKeyboardInterrupt\u001b[0m: "
     ]
    }
   ],
   "source": [
    "embedder = SentenceTransformer('gtr-t5-xxl', device='cuda')\n"
   ]
  },
  {
   "cell_type": "code",
   "execution_count": null,
   "metadata": {},
   "outputs": [],
   "source": [
    "data = json.load(open('dataNew.json', 'r'))"
   ]
  },
  {
   "cell_type": "code",
   "execution_count": null,
   "metadata": {},
   "outputs": [],
   "source": [
    "corpus = list()\n",
    "hrefList = list()\n",
    "for i in data:\n",
    "    corpus.extend([data[i]['text']])\n",
    "    hrefList.extend([data[i]['link']])"
   ]
  },
  {
   "cell_type": "code",
   "execution_count": null,
   "metadata": {},
   "outputs": [
    {
     "data": {
      "text/plain": [
       "18"
      ]
     },
     "execution_count": 27,
     "metadata": {},
     "output_type": "execute_result"
    }
   ],
   "source": [
    "len(corpus)"
   ]
  },
  {
   "cell_type": "code",
   "execution_count": null,
   "metadata": {},
   "outputs": [],
   "source": [
    "corpus_embeddings = embedder.encode(corpus, convert_to_tensor=True)"
   ]
  },
  {
   "cell_type": "code",
   "execution_count": null,
   "metadata": {},
   "outputs": [],
   "source": [
    "top_k = min(5, len(corpus))"
   ]
  },
  {
   "cell_type": "code",
   "execution_count": null,
   "metadata": {},
   "outputs": [],
   "source": [
    "query = \"I have a requirement where i have to include validation logic in flow service if the request is coming from a certain client. The client is hitting the API gateway URL and from there request is routed to ESB service. I need to set a value in my gateway so that when the call reaches ESB i would know whether to include logic/not. I have configured an input variable(authReq) in ESB service, how to pass the authReq variable with a value (Yes/No) from API gateway to webMethods flow service?\"\n"
   ]
  },
  {
   "cell_type": "code",
   "execution_count": null,
   "metadata": {},
   "outputs": [],
   "source": [
    "query_embedding = embedder.encode(query, convert_to_tensor=True)"
   ]
  },
  {
   "cell_type": "code",
   "execution_count": 32,
   "metadata": {},
   "outputs": [
    {
     "name": "stdout",
     "output_type": "stream",
     "text": [
      "Query: I have a requirement where i have to include validation logic in flow service if the request is coming from a certain client. The client is hitting the API gateway URL and from there request is routed to ESB service. I need to set a value in my gateway so that when the call reaches ESB i would know whether to include logic/not. I have configured an input variable(authReq) in ESB service, how to pass the authReq variable with a value (Yes/No) from API gateway to webMethods flow service?\n",
      "Top 5 most similar sentences in corpus:\n",
      "Overview of Security Configuration in API GatewayYou must have the API Gateway's manage security configurations functional privilege assigned to perform the following tasks in the security configuration section of API Gateway:Configure the keystores and truststores required for incoming and outgoing message-level and transport-level security.Configure ports of API Gateway.Configure the SAML issuer to use in API Gateway outbound authentication to fetch the SAML token from the STS (Security Token Service).Configure the custom assertions to use in inbound authentication of API Gateway.Configure Kerberos settings.Manage master password.Configure JSON web token(JWT), OAuth, and OpenID authorization servers and third-party providers. (Score: 0.4420) | href:https://documentation.softwareag.com/webmethods/api_gateway/yai10-15/webhelp/yai-webhelp/yai-webhelp/gtw_sec_config.html#\n",
      "User ManagementAPI Gateway provides the capability to manage Users, Groups and Access profiles in API Gateway.API Gateway provides the following REST API and the resources to retrieve the User ACL list:GET/rest/apigateway/accessProfiles: Retrieves a list of all access profiles in API Gateway.POST/rest/apigateway/accessProfiles: Creates an access profile in API Gateway. The API request body must contain the payload for the access profile.GET/rest/apigateway/accessProfiles/{accessProfileId}: Retrieves the details of an access profile in API Gateway.PUT/rest/apigateway/accessProfiles/{accessProfileId}: Updates the details of a specified access profile in API Gateway. The API request body must contain the payload for the updated access profile.DELETE/rest/apigateway/accessProfiles/{accessProfileId}: Deletes an access profile from API Gateway.GET/rest/apigateway/groups: Retrieves list of all groups in API Gateway.POST/rest/apigateway/groups: Creates a group in API Gateway. The API request body must contain the payload for the group.GET/rest/apigateway/groups/{groupId}: Retrieves the details of a group in API Gateway.PUT/rest/apigateway/groups/{groupId}: Updates the details of a specified group in API Gateway. The API request body must contain the payload for the updated group.DELETE/rest/apigateway/groups/{groupId}: Deletes a group from API Gateway.GET/rest/apigateway/users: Retrieves list of all users in API Gateway.POST/rest/apigateway/users: Creates an user in API Gateway. The API request body must contain the payload for the user.GET/rest/apigateway/users/{userId}: Retrieves the details of an user in API Gateway.PUT/rest/apigateway/users/{userId}: Updates the details of a specified user in API Gateway. The API request body must contain the payload for the updated user.DELETE/rest/apigateway/users/{userId}: Deletes the a specified user in API Gateway.POST/rest/apigateway/users/authenticate: Authenticates a user in API Gateway.GET/rest/apigateway/installedLanguages: Retrieves list of installed language packs in API Gateway.GET/rest/apigateway/is/lockedAccounts: Retrieves the locked user accounts in API Gateway.POST/rest/apigateway/is/lockedAccounts: Unlocks the locked user accounts by API Gateway.For details on the REST API, see the swagger file APIGatewayUserManagementSwagger.json, located at SAG_Install_Directory/IntegrationServer/instances/instance_name/packages/WmAPIGateway/resources/apigatewayservices.For details on sample payloads, import Postman collection from the following link in Postman client:      https://github.com/SoftwareAG/webmethods-api-gateway/blob/master/apigatewayservices/postmancollections/apis/user-management/UserManagement.json. (Score: 0.3516) | href:https://documentation.softwareag.com/webmethods/api_gateway/yai10-15/webhelp/yai-webhelp/yai-webhelp/co-restapi_useracl.html#\n",
      "Configuring HTTPS PortThis section provides information about configuring HTTPS ports available in API Gateway.To configure the HTTPS port1. In Command Central, navigate to Environments > Instances > All > API Gateway > Configuration. 2. Select Ports from the drop-down menu. 3. Click HTTPS Port Configuration. 4. Select Yes in the Enable field in the Basic configuration section. 5. Provide valid port numbers in the Port and Alias field of the HTTPS listener configuration section. 6. Select the required Keystore and Truststore from the available list of options. 7. Optionally, click Test to verify your configuration. 8. Save your changes. 9. Restart the API Gateway instance. The port is created and enabled. (Score: 0.3511) | href:https://documentation.softwareag.com/webmethods/api_gateway/yai10-15/webhelp/yai-webhelp/yai-webhelp/ta-config_apigw_ports_https.html#\n",
      "ElasticsearchThe runtime events and metrics payload generated by API Gateway at run-time is published to the configured Elasticsearch destination. The columns that make up the events and metrics data model for Elasticsearch are listed below:Transactional EventsColumnDescriptionapiIdThe unique identifier for the API.Example: af70b2de-c9c5-4f40-94be-7d8622743e42apiNameName of the API in which the event occurred.Example: SampleAPIapiVersionThe system-assigned version identifier for the API.Example: 1.0applicationIdThe unique identifier for the application associated with the API invocation.Example: c0f84954-9732-11e5-b9f4-f159eafe47b2applicationIpIP address of the application associated with the API invocation.Example: 10.60.37.42applicationNameName of the application associated with the API invocation.An application name is populated as unknown when API Gateway is unable to identify the application using a security policy that is configured for the API.Example: SampleApplicationcachedResponseIndicates whether the response is sent to the client from the cached data present in API Gateway through the Service result caching policy or the response is received from Native service and sent to client.Possible values are: Cached, Not-CachedcorrelationIDThe unique identifier that is automatically generated for every request coming to API Gateway and can be used to query the log.Example: MED38e9cfa4-2348-408b-9462-124b2181c1a6:656creationDateDate and time when the event was generated in API Gateway.Example: 1501671101509customFieldsThe custom fields an API Provider can provide to log a new field and value for a transaction event.Example: {\"customfield\":\"customvalue\"}errorOriginThe origin of error.Example: NativeserivceeventTypeThe type of event that occurred.Example: TransactionalexternalCallsList the external calls from API Gateway. These external calls can be to a native service or service registry.Example:[{\"externalCallType\":\"SERVICE_REGISTRY_CALL\",\"externalURL\":\"http://service.registry.com\",\"callDuration\":49,\"callStartTime\":1562244570486,\"callEndTime\":1562244570535,\"responseCode\": \"200\"},{\"externalCallType\":\"NATIVE_SERVICE_CALL\",\"externalURL\":\"https://petstore.swagger.io/v2/store/inventory\",\"callDuration\":1285,\"callStartTime\":1562244569252, \"callEndTime\":1562244570537,\"responseCode\":\"200\"}]httpMethodThe HTTP method used to invoke the API.Example: GETisCallbackRequestIndicates whether the event is generated for a callback request.Possible values are:true. This denotes that the event is generated for a callback request.false. This denotes that the event is generated for a normal response.messageTypeThis is applicable only for WebSocket APIs. This indicates the type of a WebSocket message.Possible values are: binary, textnativeHttpMethodThe HTTP method used to invoke the native service.Example: GETnativeRequestHeadersRequest header in the incoming request from the API Gateway to native service.Example:{\"Authorization\":\"**************\",\"Accept\": \"*/*\",\"Authorization\": \"**************\", \"Accept\":\"*/*\",\"Cache-Control\": \"no-cache\",\"User-Agent\": \"PostmanRuntime/7.13.0\",\"Postman-Token\": \"381424fa-e3b3-4058-8df9-4abf9d72c899\",\"postmanHeader\":\t\"hello\",\"accept-encoding\": \"gzip, deflate\", \"Content-Type\": \"application/x-www-form-urlencoded\"}nativeReqPayloadThe native service request data.Example:{ \"param1\" : \"value1\", \"param2\" : 10}nativeResponseHeadersResponse header in the outgoing response from the native service to API Gateway.Example:{\"Server\":\"Jetty(9.2.9.v20150224)\",\"Access-Control-Allow-Origin\":\"*\",\"Access-Control-Allow-Methods\": \"GET, POST, DELETE, PUT\",\"Connection\":\"close\",\"Date\": \"Fri, 07 Jun 2019 12:44:13 GMT\",\"Access-Control-Allow-Headers\": \"Content-Type, api_key, Authorization\",\"Content-Type\": \"application/json\"}nativeResPayloadThe native service response data.Example:{\"id\":2,\"category\":{   \"id\":2,   \"name\":\"string\"},\"name\":\"pysen\",\"photoUrls\":[\"string\"],\"tags\":[{   \"id\":0,   \"name\":\"string\"}],\"status\":\"available\"}nativeURLURL of the native service.Example: http://petstore.swagger.io/v2/pet/2operationNameName of the API operation that is invoked.Example: /pet/{petId}originThis is applicable only for WebSocket APIs. The origin of the request.Possible values are: client, serverpackageIdThe unique identifier for the API package.Example: c0f84954-9732-11e5-b9f4-f159eafe47b2packageNameName of the API package.Example: Travel PackageplanIdThe unique identifier for the API plan.Example: d0f84954-9732-11e5-b9f4-f159eafe47b2planNameName of the API plan.Example: Gold PlanproviderTimeTime in milliseconds required for API Gateway to invoke a native provider and receive a response. This time includes the overhead incurred by API Gateway. Overhead includes the time it takes for a provider to process a request and return a response, plus any network latency to or from the provider. Subtracting total time from provider time must give a rough indicator of the API Gateway overhead.Example: 1367queryParameteresThis is applicable only for REST APIs. Query parameters present in the incoming REST request.Example: {\"status\":\"available\"}reqPayloadThe API request payload data.Example: <RequestPayload>requestHeadersRequest header in the incoming request from the client.Example:{\"Cache-Control\":\"max-age=0\",\"Accept\":\"text/plain,application/json;q=0.9,image/webp,image/apng,*/*;q=0.8\",\"Upgrade-Insecure-Requests\":\"1\",\"Connection\":\"keep-alive\",\"User-Agent\":\"Mozilla/5.0(Windows NT 6.1; Win64; x64) AppleWebKit/537.36 (KHTML, like Gecko)Chrome/65.0.3325.181Safari/537.36\",\"Host\":\"mcdaso02:5555\",\"Accept-Encoding\":\"gzip,deflate\",\"Accept-Language\":\"en-US,en;q=0.9,ta;q=0.8\",\"Content-Type\":\"application/x-www-form-urlencoded\"}resPayloadThe API response payload data.Example: <ResponsePayload>responseCodeThe HTTP response status code that indicates success or failure of the requested operation.Example: 404responseHeadersResponse header in the outgoing response.Example:{\"Server\":\"Jetty(9.2.9.v20150224)\",\"Access-Control-Allow-Origin\":\"*\",\"Access-Control-Allow-Methods\":\"GET,POST,DELETE, PUT\",\"Connection\":\"close\",\"Date\":\"Fri, 30 Mar 2018 08:25:45 GMT\",\"Access-Control-Allow-Headers\":\"Content-Type,api_key,Authorization\",\"Content-Type\":\"application/xml\"}sourceGatewayNodeSource API Gateway's IP address.Example: 10.0.75.1statusStatus of the API request.Possible values are: SUCCESS, FAILUREtotalDataSizeThe total combined size of request and response payloads in bytes.Example: 51totalTimeTime in milliseconds required to invoke the API provider. This time includes the overhead incurred by API Gateway. Overhead includes security overhead for encryption, decryption, and load-balance retries.Example: 1401Error EventsColumnDescriptionapiIdThe unique identifier for the API.Example: af70b2de-c9c5-4f40-94be-7d8622743e42apiNameName of the API in which the event occurred.Example: SampleAPIapiVersionThe system-assigned version identifier for the API.Example: 1.0 applicationIdThe unique identifier for the application associated with the API invocation.Example: c0f84954-9732-11e5-b9f4-f159eafe47b2applicationIpIP address of the application associated with the API invocation.Example: 10.60.37.42applicationNameName of the application associated with the API invocation.An application name is populated as unknown when API Gateway is unable to identify the application using a security policy that is configured for the API.Example: SampleApplicationcorrelationIDThe unique identifier that is automatically generated for every request coming to API Gateway and can be used to query the log.Example: MED38e9cfa4-2348-408b-9462-124b2181c1a6:656creationDateDate and time when the event was generated in API Gateway.Example: 1501671101509errorDescMessage that describes the error that occurred.Example: Native service provider error. Code : 404eventSourceThe source where the event occurred.Example: API_Gateway_InstanceeventTypeThe type of event that occurred.Example: ErrorhttpMethodThe HTTP method used to invoke the API.Example: GEToperationNameName of the API operation that is invoked.Example: /pet/{petId}responseCodeThe HTTP response status code that indicates success or failure of the requested operation.Example: 404Monitoring EventsColumnDescriptionalertDescText of the alert message sent to a configured destination when the performance conditions are violated. The alert message is specified in the policy definition of an API.Example: EnforcePolicy-HardLimitalertSourceName of the API Gateway policy that generated the alert message.Example: MonitorpolicyalertTypeThe type of alert generated for the event.Example: MonitorapiIdThe unique identifier for the API.Example: af70b2de-c9c5-4f40-94be-7d8622743e42apiNameName of the API in which the event occurred.Example: SampleAPIapiVersionThe system-assigned version identifier for the API.Example: 1.0applicationIdThe unique identifier for the application associated with the API invocation.Example: c0f84954-9732-11e5-b9f4-f159eafe47b2applicationIpIP address of the application associated with the API invocation.Example: 10.60.37.42applicationNameName of the application associated with the API invocation.An application name is populated as unknown when API Gateway is unable to identify the application using a security policy that is configured for the API.Example: SampleApplicationcreationDateDate and time when the event was generated in API Gateway.Example: 1501671101509eventSourceThe source where the event occurred.Example: API_Gateway_InstanceeventTypeThe type of event that occurred.Example: MonitorhttpMethodThe HTTP method used to request the API access.Example: GETmonitorAttrThe monitored attribute which has breached the configured SLA.Example: AVGRESPONSETIME GT 1.0, SUCCESSCOUNT EQ 3, REQUESTCOUNT GT 10operationNameName of the API operation that is invoked.Example: /pet/{petId}responseCodeThe HTTP response status code that indicates success or failure of the requested operation.Example: 200Policy Violation EventsColumnDescriptionalertDescText of the alert message sent to a configured destination when the performance conditions are violated. The alert message is specified in the policy definition of an API.Example: A violation was detected for policy (Unknown-Policyuser ): application could not be identified. Anonymous access is not allowed for this service!alertSourceName of the API Gateway policy that generated the alert message.Example: Unknown-PolicyalertTypeThe type of alert generated for the event.Example: PolicyViolationapiIdThe unique identifier for the API.Example: af70b2de-c9c5-4f40-94be-7d8622743e42apiNameName of the API in which the event occurred.Example: SampleAPIapiVersionThe system-assigned version identifier for the API.Example: 1.0applicationIdThe unique identifier for the application associated with the API invocation.Example: 9434e90d-65c3-4e37-8ccb-595b8df3e645applicationIpIP address of the application associated with the API invocation.Example: 10.60.37.42applicationNameName of the application associated with the API invocation.An application name is populated as unknown when API Gateway is unable to identify the application using a security policy that is configured for the API.Example: SampleApplicationcreationDateDate and time when the event was generated in API Gateway.Example: 1501671101509eventSourceThe source where the event occurred.Example: API_Gateway_InstanceeventTypeThe type of event that occurred.Example: PolicyViolationhttpMethodThe HTTP method used to request the API access.Example: GEToperationNameName of the API operation that is invoked.Example: /pet/{petId}responseCodeThe HTTP response status code that indicates success or failure of the requested operation.Example: 503Performance MetricsColumnDescriptionapiIdThe unique identifier for the API.Example: af70b2de-c9c5-4f40-94be-7d8622743e42apiNameName of the API in which the event occurred.Example: SampleAPIapiVersionThe system-assigned version identifier for the API.Example: 1.0availabilityThe percentage of time that an API was available during the current interval. A value of 100 indicates that the API was always available. If invocations fail due to policy violations, this parameter could still be as high as 100.Example: 100.0avgResponseTimeThe average amount of time it took the API to complete each invocation in the current interval. Response time is measured from the moment API Gateway receives the request until the moment it returns the response to the caller.Example: 1376creationDateDate and time when the event was generated in API Gateway.Example: 1501671101509eventTypeThe type of event that occurred.Example: PerformanceDatafaultCountThe number of failed API invocations in the current interval.Example: 1includeFaultsIncludes failed API invocations.Possible values are: true, falseintervalStartThe starting date and time from which you want to examine metrics.Example: 02 Aug 2017 10:51:31 GMTintervalStopThe ending date and time until which you want to examine metrics.Example: 02 Aug 2017 10:52:31 GMTmaxResponseTimeThe maximum amount of time (in milliseconds) it took for the API to complete an invocation in the current interval.Example: 1401minResponseTimeThe minimum amount of time (in milliseconds) it took for the API to complete an invocation in the current interval.Example: 1352operationNameName of the API operation that is invoked.Example: /pet/{petId}successCountThe number of successful API invocations in the current interval.Example: 1totalCountThe total number of API invocations (successful and unsuccessful) in the current interval.Example: 2 (Score: 0.3188) | href:https://documentation.softwareag.com/webmethods/api_gateway/yai10-15/webhelp/yai-webhelp/yai-webhelp/re-metrics_events_elasticsearch.html#\n",
      "Configuring Reverse Invoke SetupIn this scenario, you can configure the threat protection rules in API Gateway server (Standard Edition) located in the DMZ. In the API Gateway instance located in the green zone, you can configure the authentication, authorization, and mediation rules prior to routing the requests to the native API.Note:For a HA setup in API Gateway Standard Edition in DMZ, two nodes are adequate, and Software AG recommends not to cluster the API Gateway Standard Edition. Hence, policies, threat protection rules and configurations must be created or deployed to individual nodes to keep the nodes synchronized.The following figure describes how reverse invoke works. The client requests are sent to the API Gateway instance in DMZ. These requests are present on the registration port. The green zone API Gateway listens to these requests through the listener port, processes the request through the native service application and responds back to the API Gateway instance in DMZ. The API Gateway instance in DMZ responds to the external clients.Important:A connection between API Gateway Server in DMZ and the API Gateway Server in Green zone is available except when a request is being made to the API Gateway in green zone or a response is being returned from the API Gateway in green zone. In other words, DMZ API Gateway connection utilization is I/O bound. Therefore, if you expect large, simultaneous transactions, increase the number of registered connections accordingly.To configure reverse invoke1. Configure external and registration ports on API Gateway in DMZ. a. Log on to API Gateway as an Administrator user. b.  Expand the menu options icon, in the title bar, and select Administration. c.  Navigate to Security > Ports. d.  Click Add ports. e. Select API Gateway external option from the Type drop-down menu. f. Click Add. g. Provide the following information in the API Gateway external listener configuration to configure the External port. External port. Specifies the port number you want to use for the external port.Use a number that is not already in use. This is the port that clients connect to through your outer firewall.Alias. Specifies an alias for the port.An alias must be between 1 and 255 characters in length and include one or more of the following: letters (a -z, A-Z), numbers (0-9), underscore (_), period (.), and hyphen (-).Description (optional). A description of the port.Protocol. Specifies the protocol to use for this port (HTTP or HTTPS).If you select HTTPS, additional security and credential boxes appear for which you have to provide the required values.Bind address (optional). Specifies the IP address to which to bind this port.Specify a bind address if your machine has multiple IP addresses and you want the port to use this specific address. If you do not specify a bind address, API Gateway picks one for you.Backlog. Specifies the number of requests that can remain in the queue for an enabled port before API Gateway begins rejecting requests.The default is 200. The maximum value is 65535.Keep alive timeout. Specifies when to close the connection if the server has not received a request from the client within this timeout value (in milliseconds) or when to close the connection if the client has explicitly placed a close request with the server.The default value is 20000ms.Note:For more information on ports, see      Ports.h. If you want to configure m-TLS, select HTTPS in the Protocol field under API Gateway external listener configuration and select one of the following options in the Client authentication field, in the in Security configuration section. Request client certificate. This option requests for a certificate from the client. However, even if the client does not provide a valid certificate, the connection is established.Require client certificate. This option requests for a certificate from the client. If the client does not provide a valid certificate, the connection is not established. If you select this option, you must also configure the following fields in the Listener specific credentials section.Keystore alias. Select a Keystore.Key alias(signing). Select a Key alias.Truststore alias. Select Truststore.i. Provide the required information to configure the registration port, in the API Gateway registration listener configuration section. The important fields to be configured are Registration port, Alias, and Protocol. For more information on ports, see      Ports.j. Configure the Keystore alias, Key alias, and Truststore alias fields. in the Listener specific credentials section. 2. Click Add. 3. Click the  icon in the Enabled column next to the external and registration ports to enable them. The port is enabled and a success message appears.4.  Execute the following steps in the green zone API Gateway. a. Create an API Gateway internal port. b. Select HTTPS in the Protocol field. c. In the API Gateway external server section, type the hostname of the DMZ API Gateway in the Host field. d. Type the port number of the API Gateway registration port of DMZ API Gateway in the Port field. e. In the Registration credentials section, provide the following information. Keystore alias. Select a Keystore.Key alias(signing). Select a Key alias.Truststore alias. Select Truststore.5. Configure the internal port of the API Gateway in green zone with the registration port of API Gateway in DMZ. 6. Configure load balancer URL in the green zoneAPI Gateway. a. Expand the menu options icon, in the title bar, and select Administration. b. Navigate to General > Load balancer. Provide the configured external server host and port or an external load balancer URL. The API endpoints expose this port for external consumers. If you have a Load Balancer, then the requests from the Load Balancer must be directed to API Gateway's external port.For more information on load balancers, see      Clusters and Load Balancers.7. Create an API in the internal API Gateway Server with routing protocol and endpoint as the native API. For more information on how to create APIs, see  Creating an API. 8. You can now access the API by using the URL in the format http://externalserver:externalport/gateway/api-name/resource-path. (Score: 0.3038) | href:https://documentation.softwareag.com/webmethods/api_gateway/yai10-15/webhelp/yai-webhelp/yai-webhelp/ta-apiserver_dmz_in_green_zone.html#\n"
     ]
    }
   ],
   "source": [
    "cos_scores = util.dot_score(query_embedding, corpus_embeddings)[0]\n",
    "top_results = torch.topk(cos_scores, k=top_k)\n",
    "print(\"Query:\", query)\n",
    "print(\"Top 5 most similar sentences in corpus:\")\n",
    "for score, idx in zip(top_results[0], top_results[1]):\n",
    "    print(corpus[idx], \"(Score: {:.4f}) | href:{}\".format(score, hrefList[idx]))"
   ]
  },
  {
   "cell_type": "code",
   "execution_count": 12,
   "metadata": {},
   "outputs": [
    {
     "data": {
      "text/plain": [
       "18"
      ]
     },
     "execution_count": 12,
     "metadata": {},
     "output_type": "execute_result"
    }
   ],
   "source": [
    "len(hrefList)"
   ]
  },
  {
   "cell_type": "code",
   "execution_count": 13,
   "metadata": {},
   "outputs": [
    {
     "name": "stdout",
     "output_type": "stream",
     "text": [
      "How Do I Create an API by Importing from a File?To create an API by importing a file1. In the Create API page, select Import API from file. 2. Click Browse and select the file to import. 3. Provide the API name in the Name field, if required. 4. Provide the required Description, API Type, Version, and click Create. The API is created and appears in the APIs list under the APIs tab. (Score: 0.5413) | href:https://documentation.softwareag.com/webmethods/api_gateway/yai10-15/webhelp/yai-webhelp/yai-webhelp/ta-qsg_create_api_from_a_file.html#\n",
      "How do I export or download runtime requests?This use case starts when you want to export the client request from your API Gateway instance to your local machine and ends when you import the request in another API Gateway instance.To export the runtime request1.  Click the Tracer tab. The Trace API page displays the Runtime events, Policies applied, and Event tracer details sections.2.  In the Runtime events section, select the runtime event that you want to export. Note:The Runtime events section lists only 20 runtime events per page. When you click Select all check box, all the runtime events of the API do not get selected. Instead, the 20 runtime events that are listed in that particular page gets selected.3.  Click to export the runtime request. The selected request is downloaded to your local machine in a predefined location. (Score: 0.3806) | href:https://documentation.softwareag.com/webmethods/api_gateway/yai10-15/webhelp/yai-webhelp/yai-webhelp/ta-export_trace.html#\n",
      "How Do I Enforce Policies to Protect My APIs?This section explains the steps to secure your API using the API Key check policy. This policy enables you to identify and validate the client's identity for exposing an API. After configuring policies, you must configure transaction logger to save API Gateway transaction event logs.To enforce policies on APIs1. Click APIs in the title navigation bar and select the required API. 2. Click Policies and click Edit. 3. Select the policy stage and the required policy. The details of the policy appear.4. Provide the properties for the selected policy and click Save. The policy is applied to the API.For more information, see      Policies. (Score: 0.2838) | href:https://documentation.softwareag.com/webmethods/api_gateway/yai10-15/webhelp/yai-webhelp/yai-webhelp/ta-qsg_enforce_policies_for_apis.html#\n",
      "OpenShift Sample FilesAPI Gateway installation provides OpenShift deployment samples. For details about these sample files, see      https://github.com/SoftwareAG/webmethods-api-gateway/tree/master/samples/openshift. To use the samples to deploy API Gateway to an OpenShift cluster, you must adapt the samples to configure the required specifications.The OpenShift samples are conceptually identical to the ones described in the      Kubernetes Sample Files section and support the same architectural patterns for ElasticSearch. This section highlights the parts that are specific to OpenShift environment.OpenShift uses a DeploymentConfig object with API version apps.openshift.io/v1 to describe a deployment. The section in the sample file is as follows:apiVersion: apps.openshift.io/v1kind: DeploymentConfigIf you have a pod labeled as tuned.openshift.io/elasticsearch, then OpenShift automatically changes the required system settings on the machine where the pod with the ElasticSearch container is started. The section in the sample file is as follows:template:  metadata:    labels:      deploymentconfig: api-gateway-deployment      tuned.openshift.io/elasticsearch: \"\"In OpenShift, use the ImageStream and ImageStreamTag objects to reference the image to be used for a container instead of specifying the image name directly in the spec.template.spec.containers section. The section in the sample file is as follows:triggers:  - type: ConfigChange  - type: ImageChange    imageChangeParams:      automatic: true      containerNames:      - api-gateway-deployment      from:        kind: ImageStreamTag        name: api-gateway-deployment:10.11---apiVersion: image.openshift.io/v1kind: ImageStreammetadata:  name: api-gateway-deploymentspec:  lookupPolicy:    local: false  tags:  - from:      kind: DockerImage      # Please fill in the path to your api gateway image stored in a docker registry.      name: <yourDockerRegistry>:<RegistryPort>/<PathToApiGateway>:10.11    importPolicy: {}    name: \"10.11\"    referencePolicy:      type: SourceUse the Route objects that OpenShift provides to make a service visible outside the cluster. Note that the URL specified in the spec.host parameter is unique across the whole OpenShift cluster. The section in the sample file is as follows:apiVersion: route.openshift.io/v1kind: Routemetadata:  name: api-gateway-uispec:  # Provide a URL that will be visible outside of the OpenShift cluster  host: api-gateway-ui.apps.<yourClusterBaseUrl>  port:    targetPort: 9072-tcp  subdomain: \"\"  to:    kind: Service    name: api-gateway-service    weight: 100  wildcardPolicy: None (Score: 0.2451) | href:https://documentation.softwareag.com/webmethods/api_gateway/yai10-15/webhelp/yai-webhelp/yai-webhelp/re-sample_files_openshift.html#\n",
      "User ManagementAPI Gateway provides the capability to manage Users, Groups and Access profiles in API Gateway.API Gateway provides the following REST API and the resources to retrieve the User ACL list:GET/rest/apigateway/accessProfiles: Retrieves a list of all access profiles in API Gateway.POST/rest/apigateway/accessProfiles: Creates an access profile in API Gateway. The API request body must contain the payload for the access profile.GET/rest/apigateway/accessProfiles/{accessProfileId}: Retrieves the details of an access profile in API Gateway.PUT/rest/apigateway/accessProfiles/{accessProfileId}: Updates the details of a specified access profile in API Gateway. The API request body must contain the payload for the updated access profile.DELETE/rest/apigateway/accessProfiles/{accessProfileId}: Deletes an access profile from API Gateway.GET/rest/apigateway/groups: Retrieves list of all groups in API Gateway.POST/rest/apigateway/groups: Creates a group in API Gateway. The API request body must contain the payload for the group.GET/rest/apigateway/groups/{groupId}: Retrieves the details of a group in API Gateway.PUT/rest/apigateway/groups/{groupId}: Updates the details of a specified group in API Gateway. The API request body must contain the payload for the updated group.DELETE/rest/apigateway/groups/{groupId}: Deletes a group from API Gateway.GET/rest/apigateway/users: Retrieves list of all users in API Gateway.POST/rest/apigateway/users: Creates an user in API Gateway. The API request body must contain the payload for the user.GET/rest/apigateway/users/{userId}: Retrieves the details of an user in API Gateway.PUT/rest/apigateway/users/{userId}: Updates the details of a specified user in API Gateway. The API request body must contain the payload for the updated user.DELETE/rest/apigateway/users/{userId}: Deletes the a specified user in API Gateway.POST/rest/apigateway/users/authenticate: Authenticates a user in API Gateway.GET/rest/apigateway/installedLanguages: Retrieves list of installed language packs in API Gateway.GET/rest/apigateway/is/lockedAccounts: Retrieves the locked user accounts in API Gateway.POST/rest/apigateway/is/lockedAccounts: Unlocks the locked user accounts by API Gateway.For details on the REST API, see the swagger file APIGatewayUserManagementSwagger.json, located at SAG_Install_Directory/IntegrationServer/instances/instance_name/packages/WmAPIGateway/resources/apigatewayservices.For details on sample payloads, import Postman collection from the following link in Postman client:      https://github.com/SoftwareAG/webmethods-api-gateway/blob/master/apigatewayservices/postmancollections/apis/user-management/UserManagement.json. (Score: 0.2389) | href:https://documentation.softwareag.com/webmethods/api_gateway/yai10-15/webhelp/yai-webhelp/yai-webhelp/co-restapi_useracl.html#\n",
      "Overview of Security Configuration in API GatewayYou must have the API Gateway's manage security configurations functional privilege assigned to perform the following tasks in the security configuration section of API Gateway:Configure the keystores and truststores required for incoming and outgoing message-level and transport-level security.Configure ports of API Gateway.Configure the SAML issuer to use in API Gateway outbound authentication to fetch the SAML token from the STS (Security Token Service).Configure the custom assertions to use in inbound authentication of API Gateway.Configure Kerberos settings.Manage master password.Configure JSON web token(JWT), OAuth, and OpenID authorization servers and third-party providers. (Score: 0.1965) | href:https://documentation.softwareag.com/webmethods/api_gateway/yai10-15/webhelp/yai-webhelp/yai-webhelp/gtw_sec_config.html#\n",
      "Configuring HTTPS PortThis section provides information about configuring HTTPS ports available in API Gateway.To configure the HTTPS port1. In Command Central, navigate to Environments > Instances > All > API Gateway > Configuration. 2. Select Ports from the drop-down menu. 3. Click HTTPS Port Configuration. 4. Select Yes in the Enable field in the Basic configuration section. 5. Provide valid port numbers in the Port and Alias field of the HTTPS listener configuration section. 6. Select the required Keystore and Truststore from the available list of options. 7. Optionally, click Test to verify your configuration. 8. Save your changes. 9. Restart the API Gateway instance. The port is created and enabled. (Score: 0.1942) | href:https://documentation.softwareag.com/webmethods/api_gateway/yai10-15/webhelp/yai-webhelp/yai-webhelp/ta-config_apigw_ports_https.html#\n",
      "Running Clustered API Gateway and Elasticsearch Containers and a Kibana ContainerIn this deployment scenario you can use the sample Docker Compose file apigw-elasticsearch-cluster-kibana.yml.The figure depicts clustered API Gateway containers. They are talking to a clustered Terracotta Server Array container, a cluster of Elasticsearch container and an external Kibana.To run clustered API Gateway and Elasticsearch containers, and a Kibana container1. Set the environment variables to define the API Gateway, Terracotta, and the Kibana image as follows: export APIGW_DOCKER_IMAGE_NAME=image name or filepath location of an existing imageexport TERRACOTTA_DOCKER_IMAGE_NAME=terracotta image nameexport KIBANA_DOCKER_IMAGE_NAME=kibana image nameYou can create the required API Gateway Docker image through API Gateway scripting. For details on creating a Docker image, see      Building the Docker Image for an API Gateway Instance .Create the Terracotta image as follows:cd /opt/softwareagdocker build --file Terracotta/docker/images/server/Dockerfile –tag is:tc Specify the API Gateway image by changing the .env file. API Gateway uses the .env file when the working directory is .../samples/docker-compose, else you must specify the environment variables. .API Gateway requires a customized Kibana image. The Docker file for creating the Kibana image is as follows:FROM centos:7COPY /opt/softwareag/profiles/IS_default/apigateway/dashboard /opt/softwareag/kibanaEXPOSE 9405RUN chmod 777 /opt/softwareag/kibana/bin/kibanaCMD /opt/softwareag/kibana/bin/kibana2. Run the following command to start the API Gateway Docker container and the Elasticsearch container using the Docker Compose sample file: cd SAG-Root/IntegrationServer/instances/default/packages/WmAPIGateway/resources/samples/docker-composedocker-compose -f apigw-elasticsearch-cluster-kibana.yml upIn the Docker Compose sample file apigw-elasticsearch-cluster-kibana.yml ensure that you have specified the required information such as image name, name and port of the Elasticsearch host, server port, UI port, and Kibana dashboard instance details. This creates and starts the containers. Run the docker ps command to view the details of the containers created.To run it in the detached mode, append -d in the docker-compose command.Note:You can stop the API Gateway Docker container and the Elasticsearch container using the docker-compose sample file with the following command:docker-compose -f apigw-elasticsearch-cluster-kibana.yml down (Score: 0.1899) | href:https://documentation.softwareag.com/webmethods/api_gateway/yai10-15/webhelp/yai-webhelp/yai-webhelp/ta-docker_container_apigw_es_cluster_kibana_docker_compose.html#\n",
      "Troubleshooting Tips: Securing API Data Store (Elasticsearch)During authentication a pop-up window appears when I try to view any dashboards in the Analytics tabAt times, when I view the Analytics tab, the Authentication pop-up window appears. This might be because Kibana is secured with SSL and API Gateway is unable to connect to Kibana. As of now, API Gateway does not support enabling SSL for Kibana. Kibana ports can be blocked from external access through firewall configuration.Resolution:Remove the following properties from kibana.yml file located at SAGInstallDir\\profiles\\IS_default\\apigateway\\dashboard\\config:server.ssl.enabled: trueserver.ssl.cert: \"/eip/apps/sag/InternalDataStore/config/PVWSLDWM001_pem.cer\"server.ssl.key: \"/eip/apps/sag/InternalDataStore/config/PVWSLDWM001_pem.key\" (Score: 0.1534) | href:https://documentation.softwareag.com/webmethods/api_gateway/yai10-15/webhelp/yai-webhelp/yai-webhelp/re-troubleshooting_securing_datastore.html#\n",
      "ElasticsearchThe runtime events and metrics payload generated by API Gateway at run-time is published to the configured Elasticsearch destination. The columns that make up the events and metrics data model for Elasticsearch are listed below:Transactional EventsColumnDescriptionapiIdThe unique identifier for the API.Example: af70b2de-c9c5-4f40-94be-7d8622743e42apiNameName of the API in which the event occurred.Example: SampleAPIapiVersionThe system-assigned version identifier for the API.Example: 1.0applicationIdThe unique identifier for the application associated with the API invocation.Example: c0f84954-9732-11e5-b9f4-f159eafe47b2applicationIpIP address of the application associated with the API invocation.Example: 10.60.37.42applicationNameName of the application associated with the API invocation.An application name is populated as unknown when API Gateway is unable to identify the application using a security policy that is configured for the API.Example: SampleApplicationcachedResponseIndicates whether the response is sent to the client from the cached data present in API Gateway through the Service result caching policy or the response is received from Native service and sent to client.Possible values are: Cached, Not-CachedcorrelationIDThe unique identifier that is automatically generated for every request coming to API Gateway and can be used to query the log.Example: MED38e9cfa4-2348-408b-9462-124b2181c1a6:656creationDateDate and time when the event was generated in API Gateway.Example: 1501671101509customFieldsThe custom fields an API Provider can provide to log a new field and value for a transaction event.Example: {\"customfield\":\"customvalue\"}errorOriginThe origin of error.Example: NativeserivceeventTypeThe type of event that occurred.Example: TransactionalexternalCallsList the external calls from API Gateway. These external calls can be to a native service or service registry.Example:[{\"externalCallType\":\"SERVICE_REGISTRY_CALL\",\"externalURL\":\"http://service.registry.com\",\"callDuration\":49,\"callStartTime\":1562244570486,\"callEndTime\":1562244570535,\"responseCode\": \"200\"},{\"externalCallType\":\"NATIVE_SERVICE_CALL\",\"externalURL\":\"https://petstore.swagger.io/v2/store/inventory\",\"callDuration\":1285,\"callStartTime\":1562244569252, \"callEndTime\":1562244570537,\"responseCode\":\"200\"}]httpMethodThe HTTP method used to invoke the API.Example: GETisCallbackRequestIndicates whether the event is generated for a callback request.Possible values are:true. This denotes that the event is generated for a callback request.false. This denotes that the event is generated for a normal response.messageTypeThis is applicable only for WebSocket APIs. This indicates the type of a WebSocket message.Possible values are: binary, textnativeHttpMethodThe HTTP method used to invoke the native service.Example: GETnativeRequestHeadersRequest header in the incoming request from the API Gateway to native service.Example:{\"Authorization\":\"**************\",\"Accept\": \"*/*\",\"Authorization\": \"**************\", \"Accept\":\"*/*\",\"Cache-Control\": \"no-cache\",\"User-Agent\": \"PostmanRuntime/7.13.0\",\"Postman-Token\": \"381424fa-e3b3-4058-8df9-4abf9d72c899\",\"postmanHeader\":\t\"hello\",\"accept-encoding\": \"gzip, deflate\", \"Content-Type\": \"application/x-www-form-urlencoded\"}nativeReqPayloadThe native service request data.Example:{ \"param1\" : \"value1\", \"param2\" : 10}nativeResponseHeadersResponse header in the outgoing response from the native service to API Gateway.Example:{\"Server\":\"Jetty(9.2.9.v20150224)\",\"Access-Control-Allow-Origin\":\"*\",\"Access-Control-Allow-Methods\": \"GET, POST, DELETE, PUT\",\"Connection\":\"close\",\"Date\": \"Fri, 07 Jun 2019 12:44:13 GMT\",\"Access-Control-Allow-Headers\": \"Content-Type, api_key, Authorization\",\"Content-Type\": \"application/json\"}nativeResPayloadThe native service response data.Example:{\"id\":2,\"category\":{   \"id\":2,   \"name\":\"string\"},\"name\":\"pysen\",\"photoUrls\":[\"string\"],\"tags\":[{   \"id\":0,   \"name\":\"string\"}],\"status\":\"available\"}nativeURLURL of the native service.Example: http://petstore.swagger.io/v2/pet/2operationNameName of the API operation that is invoked.Example: /pet/{petId}originThis is applicable only for WebSocket APIs. The origin of the request.Possible values are: client, serverpackageIdThe unique identifier for the API package.Example: c0f84954-9732-11e5-b9f4-f159eafe47b2packageNameName of the API package.Example: Travel PackageplanIdThe unique identifier for the API plan.Example: d0f84954-9732-11e5-b9f4-f159eafe47b2planNameName of the API plan.Example: Gold PlanproviderTimeTime in milliseconds required for API Gateway to invoke a native provider and receive a response. This time includes the overhead incurred by API Gateway. Overhead includes the time it takes for a provider to process a request and return a response, plus any network latency to or from the provider. Subtracting total time from provider time must give a rough indicator of the API Gateway overhead.Example: 1367queryParameteresThis is applicable only for REST APIs. Query parameters present in the incoming REST request.Example: {\"status\":\"available\"}reqPayloadThe API request payload data.Example: <RequestPayload>requestHeadersRequest header in the incoming request from the client.Example:{\"Cache-Control\":\"max-age=0\",\"Accept\":\"text/plain,application/json;q=0.9,image/webp,image/apng,*/*;q=0.8\",\"Upgrade-Insecure-Requests\":\"1\",\"Connection\":\"keep-alive\",\"User-Agent\":\"Mozilla/5.0(Windows NT 6.1; Win64; x64) AppleWebKit/537.36 (KHTML, like Gecko)Chrome/65.0.3325.181Safari/537.36\",\"Host\":\"mcdaso02:5555\",\"Accept-Encoding\":\"gzip,deflate\",\"Accept-Language\":\"en-US,en;q=0.9,ta;q=0.8\",\"Content-Type\":\"application/x-www-form-urlencoded\"}resPayloadThe API response payload data.Example: <ResponsePayload>responseCodeThe HTTP response status code that indicates success or failure of the requested operation.Example: 404responseHeadersResponse header in the outgoing response.Example:{\"Server\":\"Jetty(9.2.9.v20150224)\",\"Access-Control-Allow-Origin\":\"*\",\"Access-Control-Allow-Methods\":\"GET,POST,DELETE, PUT\",\"Connection\":\"close\",\"Date\":\"Fri, 30 Mar 2018 08:25:45 GMT\",\"Access-Control-Allow-Headers\":\"Content-Type,api_key,Authorization\",\"Content-Type\":\"application/xml\"}sourceGatewayNodeSource API Gateway's IP address.Example: 10.0.75.1statusStatus of the API request.Possible values are: SUCCESS, FAILUREtotalDataSizeThe total combined size of request and response payloads in bytes.Example: 51totalTimeTime in milliseconds required to invoke the API provider. This time includes the overhead incurred by API Gateway. Overhead includes security overhead for encryption, decryption, and load-balance retries.Example: 1401Error EventsColumnDescriptionapiIdThe unique identifier for the API.Example: af70b2de-c9c5-4f40-94be-7d8622743e42apiNameName of the API in which the event occurred.Example: SampleAPIapiVersionThe system-assigned version identifier for the API.Example: 1.0 applicationIdThe unique identifier for the application associated with the API invocation.Example: c0f84954-9732-11e5-b9f4-f159eafe47b2applicationIpIP address of the application associated with the API invocation.Example: 10.60.37.42applicationNameName of the application associated with the API invocation.An application name is populated as unknown when API Gateway is unable to identify the application using a security policy that is configured for the API.Example: SampleApplicationcorrelationIDThe unique identifier that is automatically generated for every request coming to API Gateway and can be used to query the log.Example: MED38e9cfa4-2348-408b-9462-124b2181c1a6:656creationDateDate and time when the event was generated in API Gateway.Example: 1501671101509errorDescMessage that describes the error that occurred.Example: Native service provider error. Code : 404eventSourceThe source where the event occurred.Example: API_Gateway_InstanceeventTypeThe type of event that occurred.Example: ErrorhttpMethodThe HTTP method used to invoke the API.Example: GEToperationNameName of the API operation that is invoked.Example: /pet/{petId}responseCodeThe HTTP response status code that indicates success or failure of the requested operation.Example: 404Monitoring EventsColumnDescriptionalertDescText of the alert message sent to a configured destination when the performance conditions are violated. The alert message is specified in the policy definition of an API.Example: EnforcePolicy-HardLimitalertSourceName of the API Gateway policy that generated the alert message.Example: MonitorpolicyalertTypeThe type of alert generated for the event.Example: MonitorapiIdThe unique identifier for the API.Example: af70b2de-c9c5-4f40-94be-7d8622743e42apiNameName of the API in which the event occurred.Example: SampleAPIapiVersionThe system-assigned version identifier for the API.Example: 1.0applicationIdThe unique identifier for the application associated with the API invocation.Example: c0f84954-9732-11e5-b9f4-f159eafe47b2applicationIpIP address of the application associated with the API invocation.Example: 10.60.37.42applicationNameName of the application associated with the API invocation.An application name is populated as unknown when API Gateway is unable to identify the application using a security policy that is configured for the API.Example: SampleApplicationcreationDateDate and time when the event was generated in API Gateway.Example: 1501671101509eventSourceThe source where the event occurred.Example: API_Gateway_InstanceeventTypeThe type of event that occurred.Example: MonitorhttpMethodThe HTTP method used to request the API access.Example: GETmonitorAttrThe monitored attribute which has breached the configured SLA.Example: AVGRESPONSETIME GT 1.0, SUCCESSCOUNT EQ 3, REQUESTCOUNT GT 10operationNameName of the API operation that is invoked.Example: /pet/{petId}responseCodeThe HTTP response status code that indicates success or failure of the requested operation.Example: 200Policy Violation EventsColumnDescriptionalertDescText of the alert message sent to a configured destination when the performance conditions are violated. The alert message is specified in the policy definition of an API.Example: A violation was detected for policy (Unknown-Policyuser ): application could not be identified. Anonymous access is not allowed for this service!alertSourceName of the API Gateway policy that generated the alert message.Example: Unknown-PolicyalertTypeThe type of alert generated for the event.Example: PolicyViolationapiIdThe unique identifier for the API.Example: af70b2de-c9c5-4f40-94be-7d8622743e42apiNameName of the API in which the event occurred.Example: SampleAPIapiVersionThe system-assigned version identifier for the API.Example: 1.0applicationIdThe unique identifier for the application associated with the API invocation.Example: 9434e90d-65c3-4e37-8ccb-595b8df3e645applicationIpIP address of the application associated with the API invocation.Example: 10.60.37.42applicationNameName of the application associated with the API invocation.An application name is populated as unknown when API Gateway is unable to identify the application using a security policy that is configured for the API.Example: SampleApplicationcreationDateDate and time when the event was generated in API Gateway.Example: 1501671101509eventSourceThe source where the event occurred.Example: API_Gateway_InstanceeventTypeThe type of event that occurred.Example: PolicyViolationhttpMethodThe HTTP method used to request the API access.Example: GEToperationNameName of the API operation that is invoked.Example: /pet/{petId}responseCodeThe HTTP response status code that indicates success or failure of the requested operation.Example: 503Performance MetricsColumnDescriptionapiIdThe unique identifier for the API.Example: af70b2de-c9c5-4f40-94be-7d8622743e42apiNameName of the API in which the event occurred.Example: SampleAPIapiVersionThe system-assigned version identifier for the API.Example: 1.0availabilityThe percentage of time that an API was available during the current interval. A value of 100 indicates that the API was always available. If invocations fail due to policy violations, this parameter could still be as high as 100.Example: 100.0avgResponseTimeThe average amount of time it took the API to complete each invocation in the current interval. Response time is measured from the moment API Gateway receives the request until the moment it returns the response to the caller.Example: 1376creationDateDate and time when the event was generated in API Gateway.Example: 1501671101509eventTypeThe type of event that occurred.Example: PerformanceDatafaultCountThe number of failed API invocations in the current interval.Example: 1includeFaultsIncludes failed API invocations.Possible values are: true, falseintervalStartThe starting date and time from which you want to examine metrics.Example: 02 Aug 2017 10:51:31 GMTintervalStopThe ending date and time until which you want to examine metrics.Example: 02 Aug 2017 10:52:31 GMTmaxResponseTimeThe maximum amount of time (in milliseconds) it took for the API to complete an invocation in the current interval.Example: 1401minResponseTimeThe minimum amount of time (in milliseconds) it took for the API to complete an invocation in the current interval.Example: 1352operationNameName of the API operation that is invoked.Example: /pet/{petId}successCountThe number of successful API invocations in the current interval.Example: 1totalCountThe total number of API invocations (successful and unsuccessful) in the current interval.Example: 2 (Score: 0.1494) | href:https://documentation.softwareag.com/webmethods/api_gateway/yai10-15/webhelp/yai-webhelp/yai-webhelp/re-metrics_events_elasticsearch.html#\n"
     ]
    }
   ],
   "source": [
    "semanticSearchResult = util.semantic_search(\n",
    "    query_embedding, corpus_embeddings)\n",
    "for i in semanticSearchResult[0]:\n",
    "    # print(i)\n",
    "    print(corpus[i['corpus_id']],\n",
    "          \"(Score: {:.4f}) | href:{}\".format(i['score'], hrefList[i['corpus_id']]))\n"
   ]
  },
  {
   "cell_type": "code",
   "execution_count": 14,
   "metadata": {},
   "outputs": [
    {
     "data": {
      "text/plain": [
       "'How Do I Create an API by Importing from a File?To create an API by importing a file1. In the Create API page, select Import API from file. 2. Click Browse and select the file to import. 3. Provide the API name in the Name field, if required. 4. Provide the required Description, API Type, Version, and click Create. The API is created and appears in the APIs list under the APIs tab.'"
      ]
     },
     "execution_count": 14,
     "metadata": {},
     "output_type": "execute_result"
    }
   ],
   "source": [
    "corpus[semanticSearchResult[0][0]['corpus_id']]"
   ]
  },
  {
   "cell_type": "markdown",
   "metadata": {},
   "source": [
    "# FAISS"
   ]
  },
  {
   "cell_type": "code",
   "execution_count": 15,
   "metadata": {},
   "outputs": [
    {
     "name": "stdout",
     "output_type": "stream",
     "text": [
      "huggingface/tokenizers: The current process just got forked, after parallelism has already been used. Disabling parallelism to avoid deadlocks...\n",
      "To disable this warning, you can either:\n",
      "\t- Avoid using `tokenizers` before the fork if possible\n",
      "\t- Explicitly set the environment variable TOKENIZERS_PARALLELISM=(true | false)\n"
     ]
    }
   ],
   "source": [
    "import faiss\n",
    "import numpy as np\n",
    "from sentence_transformers import SentenceTransformer, util\n",
    "import json\n",
    "import time"
   ]
  },
  {
   "cell_type": "code",
   "execution_count": 16,
   "metadata": {},
   "outputs": [],
   "source": [
    "data = json.load(open('data.json', 'r'))\n",
    "corpus = list()\n",
    "hrefList = list()\n",
    "for i in data:\n",
    "    corpus.extend(data[i]['data'])\n",
    "    hrefList.extend([data[i]['href']]*len(data[i]['data']))"
   ]
  },
  {
   "cell_type": "code",
   "execution_count": 17,
   "metadata": {},
   "outputs": [
    {
     "data": {
      "application/vnd.jupyter.widget-view+json": {
       "model_id": "fe20174f89634e30b8e8300ddd979486",
       "version_major": 2,
       "version_minor": 0
      },
      "text/plain": [
       "Downloading:   0%|          | 0.00/690 [00:00<?, ?B/s]"
      ]
     },
     "metadata": {},
     "output_type": "display_data"
    },
    {
     "data": {
      "application/vnd.jupyter.widget-view+json": {
       "model_id": "f4e7cd1b8aad412b8df96a07ec6ec5e8",
       "version_major": 2,
       "version_minor": 0
      },
      "text/plain": [
       "Downloading:   0%|          | 0.00/190 [00:00<?, ?B/s]"
      ]
     },
     "metadata": {},
     "output_type": "display_data"
    },
    {
     "data": {
      "application/vnd.jupyter.widget-view+json": {
       "model_id": "e2bce833ec94498f8074c3709e4c3fbe",
       "version_major": 2,
       "version_minor": 0
      },
      "text/plain": [
       "Downloading:   0%|          | 0.00/3.99k [00:00<?, ?B/s]"
      ]
     },
     "metadata": {},
     "output_type": "display_data"
    },
    {
     "data": {
      "application/vnd.jupyter.widget-view+json": {
       "model_id": "9dd4ab1660384c709235da931d8d3c2c",
       "version_major": 2,
       "version_minor": 0
      },
      "text/plain": [
       "Downloading:   0%|          | 0.00/550 [00:00<?, ?B/s]"
      ]
     },
     "metadata": {},
     "output_type": "display_data"
    },
    {
     "data": {
      "application/vnd.jupyter.widget-view+json": {
       "model_id": "6e198849a1b34e3d972bee6591d3711c",
       "version_major": 2,
       "version_minor": 0
      },
      "text/plain": [
       "Downloading:   0%|          | 0.00/122 [00:00<?, ?B/s]"
      ]
     },
     "metadata": {},
     "output_type": "display_data"
    },
    {
     "data": {
      "application/vnd.jupyter.widget-view+json": {
       "model_id": "f8ff122dded54c79aedb9b083eb6f5ef",
       "version_major": 2,
       "version_minor": 0
      },
      "text/plain": [
       "Downloading:   0%|          | 0.00/265M [00:00<?, ?B/s]"
      ]
     },
     "metadata": {},
     "output_type": "display_data"
    },
    {
     "data": {
      "application/vnd.jupyter.widget-view+json": {
       "model_id": "096256b95af24a1f81593a7e5bf07c0b",
       "version_major": 2,
       "version_minor": 0
      },
      "text/plain": [
       "Downloading:   0%|          | 0.00/53.0 [00:00<?, ?B/s]"
      ]
     },
     "metadata": {},
     "output_type": "display_data"
    },
    {
     "data": {
      "application/vnd.jupyter.widget-view+json": {
       "model_id": "94b034a2831c4591b3c8cd26f8acb973",
       "version_major": 2,
       "version_minor": 0
      },
      "text/plain": [
       "Downloading:   0%|          | 0.00/112 [00:00<?, ?B/s]"
      ]
     },
     "metadata": {},
     "output_type": "display_data"
    },
    {
     "data": {
      "application/vnd.jupyter.widget-view+json": {
       "model_id": "4ea1167058b44e0c90654ee5186d161c",
       "version_major": 2,
       "version_minor": 0
      },
      "text/plain": [
       "Downloading:   0%|          | 0.00/466k [00:00<?, ?B/s]"
      ]
     },
     "metadata": {},
     "output_type": "display_data"
    },
    {
     "data": {
      "application/vnd.jupyter.widget-view+json": {
       "model_id": "ef9754c1e9e84c3ca63202ee8d91b537",
       "version_major": 2,
       "version_minor": 0
      },
      "text/plain": [
       "Downloading:   0%|          | 0.00/450 [00:00<?, ?B/s]"
      ]
     },
     "metadata": {},
     "output_type": "display_data"
    },
    {
     "data": {
      "application/vnd.jupyter.widget-view+json": {
       "model_id": "e23ec4222cf14e4c9bc929377b317070",
       "version_major": 2,
       "version_minor": 0
      },
      "text/plain": [
       "Downloading:   0%|          | 0.00/232k [00:00<?, ?B/s]"
      ]
     },
     "metadata": {},
     "output_type": "display_data"
    },
    {
     "data": {
      "application/vnd.jupyter.widget-view+json": {
       "model_id": "0c91e0b0ef004d1f8fcd207c3e4773d7",
       "version_major": 2,
       "version_minor": 0
      },
      "text/plain": [
       "Downloading:   0%|          | 0.00/229 [00:00<?, ?B/s]"
      ]
     },
     "metadata": {},
     "output_type": "display_data"
    },
    {
     "data": {
      "application/vnd.jupyter.widget-view+json": {
       "model_id": "2817c217160e419da82187518f2a09e2",
       "version_major": 2,
       "version_minor": 0
      },
      "text/plain": [
       "Batches:   0%|          | 0/652 [00:00<?, ?it/s]"
      ]
     },
     "metadata": {},
     "output_type": "display_data"
    }
   ],
   "source": [
    "faissModel = SentenceTransformer(\n",
    "    'distilbert-base-nli-mean-tokens', device='cuda')\n",
    "faissEmbedding = faissModel.encode(corpus, show_progress_bar=True)"
   ]
  },
  {
   "cell_type": "code",
   "execution_count": 18,
   "metadata": {},
   "outputs": [
    {
     "name": "stderr",
     "output_type": "stream",
     "text": [
      "WARNING clustering 20843 points to 10000 centroids: please provide at least 390000 training points\n"
     ]
    }
   ],
   "source": [
    "index = faiss.IndexHNSWFlat(faissEmbedding.shape[1], 32)\n",
    "index = faiss.IndexIVFPQ(index, faissEmbedding.shape[1], 10000, 16, 8)\n",
    "index.train(faissEmbedding)\n",
    "index.add(faissEmbedding)"
   ]
  },
  {
   "cell_type": "code",
   "execution_count": 19,
   "metadata": {},
   "outputs": [
    {
     "data": {
      "text/plain": [
       "<faiss.swigfaiss.IndexIVFPQ; proxy of <Swig Object of type 'faiss::IndexIVFPQ *' at 0x7fb622c966f0> >"
      ]
     },
     "execution_count": 19,
     "metadata": {},
     "output_type": "execute_result"
    }
   ],
   "source": [
    "faiss.write_index(index, 'faissHNSWFlat_IVFPQ.index')\n",
    "faiss.read_index('faissHNSWFlat_IVFPQ.index')"
   ]
  },
  {
   "cell_type": "code",
   "execution_count": 20,
   "metadata": {},
   "outputs": [],
   "source": [
    "def search(query):\n",
    "    t=time.time()\n",
    "    query_vector = faissModel.encode([query], show_progress_bar=True)\n",
    "    k = 5\n",
    "    top_k = index.search(query_vector, k)\n",
    "    print('totaltime: {}'.format(time.time()-t))\n",
    "    return [hrefList[_id] for _id in top_k[1].tolist()[0]]"
   ]
  },
  {
   "cell_type": "code",
   "execution_count": 21,
   "metadata": {},
   "outputs": [
    {
     "data": {
      "application/vnd.jupyter.widget-view+json": {
       "model_id": "63d16c1885d5475a805537533ec9bf2d",
       "version_major": 2,
       "version_minor": 0
      },
      "text/plain": [
       "Batches:   0%|          | 0/1 [00:00<?, ?it/s]"
      ]
     },
     "metadata": {},
     "output_type": "display_data"
    },
    {
     "name": "stdout",
     "output_type": "stream",
     "text": [
      "totaltime: 0.023241281509399414\n",
      "results :\n",
      "\t https://documentation.softwareag.com/webmethods/api_gateway/yai10-11/10-11_API_Gateway_webhelp/api-gateway-integrated-webhelp/updating_apis_file.html#\n",
      "\t https://documentation.softwareag.com/webmethods/mywebmethods_server/mws10-11/10-11_MWSw/my-webmethods-server-webhelp/ta-allowing_users_to_access_the_workspace_management_page.html#\n",
      "\t https://documentation.softwareag.com/webmethods/mywebmethods_server/mws10-11/10-11_MWSw/my-webmethods-server-webhelp/to-system_2.html#\n",
      "\t https://documentation.softwareag.com/webmethods/mywebmethods_server/mws10-11/10-11_MWSw/my-webmethods-server-webhelp/to-system_2.html#\n",
      "\t https://documentation.softwareag.com/webmethods/mywebmethods_server/mws10-11/10-11_MWSw/my-webmethods-server-webhelp/to-system_2.html#\n"
     ]
    }
   ],
   "source": [
    "# query=str(input())\n",
    "results=search(query)\n",
    "print('results :')\n",
    "for result in results:\n",
    "    print('\\t',result)"
   ]
  },
  {
   "cell_type": "code",
   "execution_count": null,
   "metadata": {},
   "outputs": [],
   "source": []
  }
 ],
 "metadata": {
  "kernelspec": {
   "display_name": "test",
   "language": "python",
   "name": "python3"
  },
  "language_info": {
   "codemirror_mode": {
    "name": "ipython",
    "version": 3
   },
   "file_extension": ".py",
   "mimetype": "text/x-python",
   "name": "python",
   "nbconvert_exporter": "python",
   "pygments_lexer": "ipython3",
   "version": "3.9.15"
  },
  "orig_nbformat": 4,
  "vscode": {
   "interpreter": {
    "hash": "0ff842492d3b27893a4a77d7bd2f4a30fac711420d42d094c025bdf6b54a0b49"
   }
  }
 },
 "nbformat": 4,
 "nbformat_minor": 2
}
