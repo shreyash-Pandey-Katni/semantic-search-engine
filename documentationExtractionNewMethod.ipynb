{
 "cells": [
  {
   "cell_type": "code",
   "execution_count": 52,
   "metadata": {},
   "outputs": [],
   "source": [
    "from tqdm import tqdm\n",
    "from selenium import webdriver\n",
    "from selenium.webdriver.common.keys import Keys\n",
    "import requests\n",
    "from bs4 import BeautifulSoup\n",
    "import json\n",
    "import pymongo"
   ]
  },
  {
   "cell_type": "code",
   "execution_count": 2,
   "metadata": {},
   "outputs": [],
   "source": [
    "url = \"https://documentation.softwareag.com/webmethods/api_gateway/yai10-15/webhelp/yai-webhelp/yai-webhelp.html\"\n",
    "response = requests.request(\"GET\", url, data=\"\")"
   ]
  },
  {
   "cell_type": "code",
   "execution_count": 3,
   "metadata": {},
   "outputs": [],
   "source": [
    "soup = BeautifulSoup(response.text, 'html.parser')"
   ]
  },
  {
   "cell_type": "code",
   "execution_count": 7,
   "metadata": {},
   "outputs": [],
   "source": [
    "# write a function to get links in the deepest level of the soup\n",
    "def get_links(soup):\n",
    "    links = set()\n",
    "    if soup.find('li') is None:\n",
    "        links.add(soup.find('a').get('href'))\n",
    "    else:\n",
    "        for li in soup.find_all('li'):\n",
    "            links = links.union(get_links(li))\n",
    "    return links"
   ]
  },
  {
   "cell_type": "code",
   "execution_count": 9,
   "metadata": {},
   "outputs": [],
   "source": [
    "allLinks = get_links(soup)"
   ]
  },
  {
   "cell_type": "code",
   "execution_count": 17,
   "metadata": {},
   "outputs": [],
   "source": [
    "baseUrl = 'https://documentation.softwareag.com/webmethods/api_gateway/yai10-15/webhelp/yai-webhelp/'\n"
   ]
  },
  {
   "cell_type": "code",
   "execution_count": 18,
   "metadata": {},
   "outputs": [],
   "source": [
    "links = [baseUrl + link for link in allLinks]"
   ]
  },
  {
   "cell_type": "code",
   "execution_count": 20,
   "metadata": {},
   "outputs": [
    {
     "data": {
      "text/plain": [
       "88503"
      ]
     },
     "execution_count": 20,
     "metadata": {},
     "output_type": "execute_result"
    }
   ],
   "source": [
    "open('links.txt', 'w').write('\\n'.join(links))"
   ]
  },
  {
   "cell_type": "code",
   "execution_count": 22,
   "metadata": {},
   "outputs": [],
   "source": [
    "driver = webdriver.Chrome(\"./chromedriver\")"
   ]
  },
  {
   "cell_type": "code",
   "execution_count": 53,
   "metadata": {},
   "outputs": [],
   "source": [
    "client = pymongo.MongoClient(\"mongodb://localhost:27017/\")\n",
    "collection = client[\"documentation\"][\"yai\"]"
   ]
  },
  {
   "cell_type": "code",
   "execution_count": 54,
   "metadata": {},
   "outputs": [
    {
     "name": "stderr",
     "output_type": "stream",
     "text": [
      "100%|██████████| 660/660 [02:54<00:00,  3.78it/s]\n"
     ]
    }
   ],
   "source": [
    "dataDict = {}\n",
    "exceptionsList = []\n",
    "for link in tqdm(links):\n",
    "    try:\n",
    "        driver.get(link)\n",
    "        driver.implicitly_wait(30)\n",
    "        title = driver.title\n",
    "        driver.switch_to.frame(driver.find_element_by_tag_name(\"iframe\"))\n",
    "        soup = BeautifulSoup(driver.page_source, 'html.parser')\n",
    "        soup = soup.find('body')\n",
    "        soup.header.decompose()\n",
    "        soup.footer.decompose()\n",
    "        data = soup.text.strip().replace('\\n', ' ')\n",
    "        temp = {'text': data, 'link': link, 'title': title}\n",
    "        collection.insert_one(temp)\n",
    "    except Exception as e:\n",
    "        print(e)\n",
    "        exceptionsList.append(link)"
   ]
  },
  {
   "cell_type": "code",
   "execution_count": 50,
   "metadata": {},
   "outputs": [],
   "source": [
    "\n",
    "json.dump(dataDict, open('dataNew.json', 'w'))"
   ]
  },
  {
   "cell_type": "code",
   "execution_count": 62,
   "metadata": {},
   "outputs": [
    {
     "data": {
      "text/plain": [
       "'https://documentation.softwareag.com/webmethods/api_gateway/yai10-15/webhelp/yai-webhelp'"
      ]
     },
     "execution_count": 62,
     "metadata": {},
     "output_type": "execute_result"
    }
   ],
   "source": [
    "\"/\".join(link.split('/')[:-2])"
   ]
  },
  {
   "cell_type": "code",
   "execution_count": 58,
   "metadata": {},
   "outputs": [
    {
     "data": {
      "text/plain": [
       "'https://documentation.softwareag.com/webmethods/api_gateway/yai10-15/webhelp/yai-webhelp/'"
      ]
     },
     "execution_count": 58,
     "metadata": {},
     "output_type": "execute_result"
    }
   ],
   "source": [
    "baseUrl"
   ]
  },
  {
   "cell_type": "code",
   "execution_count": 68,
   "metadata": {},
   "outputs": [
    {
     "data": {
      "text/plain": [
       "'yai'"
      ]
     },
     "execution_count": 68,
     "metadata": {},
     "output_type": "execute_result"
    }
   ],
   "source": [
    "url.split('-')[-2].split('/')[-1]"
   ]
  },
  {
   "cell_type": "code",
   "execution_count": null,
   "metadata": {},
   "outputs": [],
   "source": []
  }
 ],
 "metadata": {
  "kernelspec": {
   "display_name": "test",
   "language": "python",
   "name": "python3"
  },
  "language_info": {
   "codemirror_mode": {
    "name": "ipython",
    "version": 3
   },
   "file_extension": ".py",
   "mimetype": "text/x-python",
   "name": "python",
   "nbconvert_exporter": "python",
   "pygments_lexer": "ipython3",
   "version": "3.9.15"
  },
  "orig_nbformat": 4,
  "vscode": {
   "interpreter": {
    "hash": "0ff842492d3b27893a4a77d7bd2f4a30fac711420d42d094c025bdf6b54a0b49"
   }
  }
 },
 "nbformat": 4,
 "nbformat_minor": 2
}
